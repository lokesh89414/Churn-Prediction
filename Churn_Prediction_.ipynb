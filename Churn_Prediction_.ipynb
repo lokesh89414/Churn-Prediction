{
  "nbformat": 4,
  "nbformat_minor": 0,
  "metadata": {
    "colab": {
      "provenance": [],
      "authorship_tag": "ABX9TyMEgR7DQEO66kCBLeJ0g+71",
      "include_colab_link": true
    },
    "kernelspec": {
      "name": "python3",
      "display_name": "Python 3"
    },
    "language_info": {
      "name": "python"
    }
  },
  "cells": [
    {
      "cell_type": "markdown",
      "metadata": {
        "id": "view-in-github",
        "colab_type": "text"
      },
      "source": [
        "<a href=\"https://colab.research.google.com/github/lokesh89414/Churn-Prediction/blob/main/Churn_Prediction_.ipynb\" target=\"_parent\"><img src=\"https://colab.research.google.com/assets/colab-badge.svg\" alt=\"Open In Colab\"/></a>"
      ]
    },
    {
      "cell_type": "markdown",
      "source": [
        "Importing the Dependencies"
      ],
      "metadata": {
        "id": "GiL-KHO9KQnq"
      }
    },
    {
      "cell_type": "code",
      "execution_count": null,
      "metadata": {
        "id": "TkViOB-d2PjO"
      },
      "outputs": [],
      "source": [
        "import pandas as pd\n",
        "from sklearn.model_selection import train_test_split\n",
        "from sklearn.preprocessing import LabelEncoder\n",
        "from sklearn.ensemble import RandomForestClassifier\n",
        "from sklearn.metrics import classification_report, confusion_matrix"
      ]
    },
    {
      "cell_type": "code",
      "source": [
        "df = pd.read_csv('Churn.csv')\n",
        "\n",
        "df['TotalCharges'] = pd.to_numeric(df['TotalCharges'], errors='coerce')\n",
        "df = df.dropna()\n",
        "\n",
        "le = LabelEncoder()\n",
        "for column in df.select_dtypes(include=['object']).columns:\n",
        "    if column != 'customerID':\n",
        "        df[column] = le.fit_transform(df[column])\n",
        "\n",
        "X = df.drop(['customerID', 'Churn'], axis=1)\n",
        "y = df['Churn']\n",
        "X_train, X_test, y_train, y_test = train_test_split(X, y, test_size=0.2, random_state=42)\n",
        "\n",
        "model = RandomForestClassifier(n_estimators=100, random_state=42)\n",
        "model.fit(X_train, y_train)\n",
        "\n",
        "y_pred = model.predict(X_test)\n",
        "print(confusion_matrix(y_test, y_pred))\n",
        "print(classification_report(y_test, y_pred))\n",
        "\n",
        "def get_user_input():\n",
        "    gender = input(\"Enter gender (Male/Female): \")\n",
        "    senior_citizen = int(input(\"Is the customer a senior citizen? (0 for No, 1 for Yes): \"))\n",
        "    partner = input(\"Does the customer have a partner? (Yes/No): \")\n",
        "    dependents = input(\"Does the customer have dependents? (Yes/No): \")\n",
        "    tenure = int(input(\"Enter tenure (in months): \"))\n",
        "    phone_service = input(\"Does the customer have phone service? (Yes/No): \")\n",
        "    multiple_lines = input(\"Does the customer have multiple lines? (Yes/No/No phone service): \")\n",
        "    internet_service = input(\"Enter internet service type (DSL/Fiber optic/No): \")\n",
        "    online_security = input(\"Does the customer have online security? (Yes/No/No internet service): \")\n",
        "    online_backup = input(\"Does the customer have online backup? (Yes/No/No internet service): \")\n",
        "    device_protection = input(\"Does the customer have device protection? (Yes/No/No internet service): \")\n",
        "    tech_support = input(\"Does the customer have tech support? (Yes/No/No internet service): \")\n",
        "    streaming_tv = input(\"Does the customer have streaming TV? (Yes/No/No internet service): \")\n",
        "    streaming_movies = input(\"Does the customer have streaming movies? (Yes/No/No internet service): \")\n",
        "    contract = input(\"Enter contract type (Month-to-month/One year/Two year): \")\n",
        "    paperless_billing = input(\"Does the customer use paperless billing? (Yes/No): \")\n",
        "    payment_method = input(\"Enter payment method (Electronic check/Mailed check/Bank transfer (automatic)/Credit card (automatic)): \")\n",
        "    monthly_charges = float(input(\"Enter monthly charges: \"))\n",
        "    total_charges = float(input(\"Enter total charges: \"))\n",
        "\n",
        "    user_data = {\n",
        "        'gender': gender,\n",
        "        'SeniorCitizen': senior_citizen,\n",
        "        'Partner': partner,\n",
        "        'Dependents': dependents,\n",
        "        'tenure': tenure,\n",
        "        'PhoneService': phone_service,\n",
        "        'MultipleLines': multiple_lines,\n",
        "        'InternetService': internet_service,\n",
        "        'OnlineSecurity': online_security,\n",
        "        'OnlineBackup': online_backup,\n",
        "        'DeviceProtection': device_protection,\n",
        "        'TechSupport': tech_support,\n",
        "        'StreamingTV': streaming_tv,\n",
        "        'StreamingMovies': streaming_movies,\n",
        "        'Contract': contract,\n",
        "        'PaperlessBilling': paperless_billing,\n",
        "        'PaymentMethod': payment_method,\n",
        "        'MonthlyCharges': monthly_charges,\n",
        "        'TotalCharges': total_charges\n",
        "    }\n",
        "\n",
        "    user_df = pd.DataFrame(user_data, index=[0])\n",
        "    for column in user_df.select_dtypes(include=['object']).columns:\n",
        "        user_df[column] = le.fit_transform(user_df[column])\n",
        "\n",
        "    return user_df\n",
        "\n",
        "user_df = get_user_input()\n",
        "prediction = model.predict(user_df)\n",
        "prediction_proba = model.predict_proba(user_df)\n",
        "\n",
        "print(f\"Prediction: {'Churn' if prediction[0] == 1 else 'Not Churn'}\")\n",
        "print(f\"Probability of Churning: {prediction_proba[0][1]}\")"
      ],
      "metadata": {
        "colab": {
          "base_uri": "https://localhost:8080/"
        },
        "id": "HIvzq84nJ-OC",
        "outputId": "9fa8f73b-9c03-48cb-af71-38996f1b4606"
      },
      "execution_count": null,
      "outputs": [
        {
          "output_type": "stream",
          "name": "stdout",
          "text": [
            "[[939  89]\n",
            " [215 163]]\n",
            "              precision    recall  f1-score   support\n",
            "\n",
            "           0       0.81      0.91      0.86      1028\n",
            "           1       0.65      0.43      0.52       378\n",
            "\n",
            "    accuracy                           0.78      1406\n",
            "   macro avg       0.73      0.67      0.69      1406\n",
            "weighted avg       0.77      0.78      0.77      1406\n",
            "\n",
            "Enter gender (Male/Female): Male\n",
            "Is the customer a senior citizen? (0 for No, 1 for Yes): 1\n",
            "Does the customer have a partner? (Yes/No): yes\n",
            "Does the customer have dependents? (Yes/No): no\n",
            "Enter tenure (in months): 2\n",
            "Does the customer have phone service? (Yes/No): yes\n",
            "Does the customer have multiple lines? (Yes/No/No phone service): no\n",
            "Enter internet service type (DSL/Fiber optic/No): dsl\n",
            "Does the customer have online security? (Yes/No/No internet service): no\n",
            "Does the customer have online backup? (Yes/No/No internet service): no\n",
            "Does the customer have device protection? (Yes/No/No internet service): yes\n",
            "Does the customer have tech support? (Yes/No/No internet service): no\n",
            "Does the customer have streaming TV? (Yes/No/No internet service): yes\n",
            "Does the customer have streaming movies? (Yes/No/No internet service): no\n",
            "Enter contract type (Month-to-month/One year/Two year): month-to-month\n",
            "Does the customer use paperless billing? (Yes/No): yes\n",
            "Enter payment method (Electronic check/Mailed check/Bank transfer (automatic)/Credit card (automatic)): mailed check\n",
            "Enter monthly charges: 56.4\n",
            "Enter total charges: 18890\n",
            "Prediction: Not Churn\n",
            "Probability of Churning: 0.41\n"
          ]
        }
      ]
    }
  ]
}